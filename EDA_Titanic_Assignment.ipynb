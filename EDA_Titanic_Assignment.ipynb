{
 "cells": [
  {
   "cell_type": "markdown",
   "id": "65447bb5",
   "metadata": {},
   "source": [
    "# Titanic EDA Assignment\n",
    "\n",
    "This notebook covers the Exploratory Data Analysis (EDA) steps (a–f)."
   ]
  },
  {
   "cell_type": "code",
   "execution_count": null,
   "id": "ffe59c07",
   "metadata": {},
   "outputs": [],
   "source": [
    "\n",
    "import pandas as pd\n",
    "import seaborn as sns\n",
    "import matplotlib.pyplot as plt\n",
    "\n",
    "sns.set(style=\"whitegrid\")\n",
    "\n",
    "train = pd.read_csv(\"train.csv\")\n",
    "print(train.info())\n",
    "train.describe()\n"
   ]
  },
  {
   "cell_type": "markdown",
   "id": "3d5d5a68",
   "metadata": {},
   "source": [
    "\n",
    "### Observations\n",
    "- Dataset has 891 rows and 12 columns.\n",
    "- Missing values: Age (177), Cabin (687), Embarked (2).\n",
    "- Target column: Survived (0 = No, 1 = Yes).\n"
   ]
  },
  {
   "cell_type": "code",
   "execution_count": null,
   "id": "ef9e551b",
   "metadata": {},
   "outputs": [],
   "source": [
    "\n",
    "print(\"Sex counts:\\n\", train[\"Sex\"].value_counts())\n",
    "print(\"\\nPclass counts:\\n\", train[\"Pclass\"].value_counts())\n",
    "print(\"\\nEmbarked counts:\\n\", train[\"Embarked\"].value_counts())\n"
   ]
  },
  {
   "cell_type": "markdown",
   "id": "038050a2",
   "metadata": {},
   "source": [
    "\n",
    "### Observations\n",
    "- More males than females.\n",
    "- Most passengers travelled in 3rd class.\n",
    "- Majority embarked from port 'S'.\n"
   ]
  },
  {
   "cell_type": "code",
   "execution_count": null,
   "id": "1d81060f",
   "metadata": {},
   "outputs": [],
   "source": [
    "\n",
    "sns.pairplot(train[[\"Survived\",\"Pclass\",\"Age\",\"SibSp\",\"Parch\",\"Fare\"]], hue=\"Survived\")\n",
    "plt.show()\n",
    "\n",
    "plt.figure(figsize=(8,6))\n",
    "sns.heatmap(train.corr(), annot=True, cmap=\"coolwarm\")\n",
    "plt.title(\"Correlation Heatmap\")\n",
    "plt.show()\n"
   ]
  },
  {
   "cell_type": "markdown",
   "id": "2a68983b",
   "metadata": {},
   "source": [
    "\n",
    "### Observations\n",
    "- Fare is positively correlated with survival.\n",
    "- Pclass is negatively correlated with survival (higher class → higher survival).\n",
    "- Younger passengers tended to survive slightly more, but Age correlation is weaker.\n"
   ]
  },
  {
   "cell_type": "code",
   "execution_count": null,
   "id": "d3ac45e8",
   "metadata": {},
   "outputs": [],
   "source": [
    "\n",
    "plt.figure(figsize=(8,5))\n",
    "sns.histplot(train[\"Age\"].dropna(), bins=30, kde=True)\n",
    "plt.title(\"Age Distribution\")\n",
    "plt.show()\n",
    "\n",
    "plt.figure(figsize=(8,5))\n",
    "sns.histplot(train[\"Fare\"], bins=40, kde=True)\n",
    "plt.title(\"Fare Distribution\")\n",
    "plt.show()\n"
   ]
  },
  {
   "cell_type": "markdown",
   "id": "ad82baf6",
   "metadata": {},
   "source": [
    "\n",
    "### Observations\n",
    "- Age is right-skewed, most passengers between 20–40 years old.\n",
    "- Fare is highly skewed: most passengers paid low fares, few paid very high fares.\n"
   ]
  },
  {
   "cell_type": "code",
   "execution_count": null,
   "id": "7f3cc3f6",
   "metadata": {},
   "outputs": [],
   "source": [
    "\n",
    "sns.boxplot(x=\"Survived\", y=\"Age\", data=train)\n",
    "plt.title(\"Age vs Survival\")\n",
    "plt.show()\n",
    "\n",
    "plt.figure(figsize=(8,6))\n",
    "sns.scatterplot(x=\"Age\", y=\"Fare\", hue=\"Survived\", data=train)\n",
    "plt.title(\"Age vs Fare (colored by Survival)\")\n",
    "plt.show()\n"
   ]
  },
  {
   "cell_type": "markdown",
   "id": "89faef10",
   "metadata": {},
   "source": [
    "\n",
    "### Observations\n",
    "- Younger passengers had slightly higher survival rates.\n",
    "- Passengers who paid higher fares were more likely to survive.\n"
   ]
  },
  {
   "cell_type": "code",
   "execution_count": null,
   "id": "9e4f0086",
   "metadata": {},
   "outputs": [],
   "source": [
    "\n",
    "sns.countplot(x=\"Sex\", hue=\"Survived\", data=train)\n",
    "plt.title(\"Survival by Sex\")\n",
    "plt.show()\n",
    "\n",
    "sns.countplot(x=\"Pclass\", hue=\"Survived\", data=train)\n",
    "plt.title(\"Survival by Class\")\n",
    "plt.show()\n",
    "\n",
    "sns.countplot(x=\"Embarked\", hue=\"Survived\", data=train)\n",
    "plt.title(\"Survival by Embarked Port\")\n",
    "plt.show()\n"
   ]
  },
  {
   "cell_type": "markdown",
   "id": "3fd033f9",
   "metadata": {},
   "source": [
    "\n",
    "### Observations\n",
    "- Females had a much higher survival rate than males.\n",
    "- 1st class passengers had the highest survival, 3rd class the lowest.\n",
    "- Passengers from port C survived more compared to port S.\n"
   ]
  },
  {
   "cell_type": "markdown",
   "id": "d80b9287",
   "metadata": {},
   "source": [
    "\n",
    "# 📌 Summary of Findings\n",
    "- **Sex**: Strongest factor; females survived more often than males.\n",
    "- **Pclass**: Higher classes had higher survival rates (1st > 2nd > 3rd).\n",
    "- **Fare**: Higher fares linked with higher survival chances.\n",
    "- **Age**: Younger passengers, especially children, had slightly higher survival.\n",
    "- **Embarked**: Passengers from port 'C' survived more than those from 'S'.\n",
    "- **Cabin**: Too many missing values to be used directly.\n"
   ]
  }
 ],
 "metadata": {},
 "nbformat": 4,
 "nbformat_minor": 5
}
